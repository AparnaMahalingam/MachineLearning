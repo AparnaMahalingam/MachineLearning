{
 "cells": [
  {
   "cell_type": "markdown",
   "metadata": {},
   "source": [
    "# SENSORLESS DRIVE DIAGNOSIS DATASET - UCI Repository"
   ]
  },
  {
   "cell_type": "markdown",
   "metadata": {},
   "source": [
    "Data Set Information: \n",
    "\n",
    "Features are extracted from electric current drive signals. The drive has intact and defective components. This results in 11 different classes with different conditions. Each condition has been measured several times by 12 different operating conditions, this means by different speeds, load moments and load forces. The current signals are measured with a current probe and an oscilloscope on two phases.\n",
    "\n",
    "In the dataset: • 49th attribute are the discrete class names from 1 to 11. \n",
    "                • Each class has 5319 instances.\n",
    "                \n",
    "                \n",
    "Link to paper: https://www.researchgate.net/publication/261282496_Sensorless_drive_diagnosis_using_automated_feature_extraction_significance_ranking_and_reduction?enrichId=rgreq-e029472fd3e1745311a3df1a67e6a768-XXX&enrichSource=Y292ZXJQYWdlOzI2MTI4MjQ5NjtBUzoxMTM3MDMzNTc3ODQwNjRAMTQwNDEyMDQwMTIwOA%3D%3D&el=1_x_2&_esc=publicationCoverPdf\n",
    "\n",
    "\n",
    "Attribute Information: \n",
    "\n",
    "The Empirical Mode Decomposition (EMD) was used to generate a new database for the generation of features. The first three intrinsic mode functions (IMF) of the two phase currents and their residuals (RES) were used and broken down into sub-sequences. For each of this sub-sequences, the statistical features mean, standard deviation, skewness and kurtosis were calculated.\n",
    "\n",
    "Problem type: \n",
    "\n",
    "This is a Classification problem with 48 input features and 58509 datapoints. The result/output will be the classification of 11 different categories with different conditions"
   ]
  },
  {
   "cell_type": "code",
   "execution_count": 1,
   "metadata": {
    "collapsed": true
   },
   "outputs": [],
   "source": [
    "import pandas as pd\n",
    "from scipy import stats\n",
    "import numpy as np\n",
    "\n",
    "import urllib.request\n",
    "import json\n",
    "\n",
    "import sklearn as sk\n",
    "import matplotlib.pyplot as plt\n",
    "%matplotlib inline\n",
    "\n",
    "import seaborn as sns\n",
    "from pandas.tools.plotting import scatter_matrix\n",
    "import sklearn.linear_model as skl_lm\n",
    "from sklearn.discriminant_analysis import LinearDiscriminantAnalysis\n",
    "from sklearn.discriminant_analysis import QuadraticDiscriminantAnalysis\n",
    "from sklearn.metrics import confusion_matrix, classification_report, precision_score, accuracy_score\n",
    "from sklearn.preprocessing import StandardScaler\n",
    "from sklearn.model_selection import train_test_split, cross_validate, cross_val_score, StratifiedKFold\n",
    "from sklearn.neighbors import KNeighborsClassifier\n",
    "from sklearn.ensemble import RandomForestClassifier\n",
    "from sklearn.feature_selection import RFE, RFECV\n",
    "from sklearn.svm import SVC\n"
   ]
  },
  {
   "cell_type": "code",
   "execution_count": 2,
   "metadata": {},
   "outputs": [
    {
     "data": {
      "text/plain": [
       "'/Users/User/Documents/Jupyter/EE259/PROJECT'"
      ]
     },
     "execution_count": 2,
     "metadata": {},
     "output_type": "execute_result"
    }
   ],
   "source": [
    "import os \n",
    "os.getcwd()"
   ]
  },
  {
   "cell_type": "markdown",
   "metadata": {},
   "source": [
    "#### We import urllib.request to load the dataset dynamically from the repository, instead of having to save it in prior to running the notebook"
   ]
  },
  {
   "cell_type": "code",
   "execution_count": 3,
   "metadata": {
    "collapsed": true
   },
   "outputs": [],
   "source": [
    "data_url = 'https://archive.ics.uci.edu/ml/machine-learning-databases/00325/Sensorless_drive_diagnosis.txt'\n",
    "raw_data = urllib.request.urlopen(data_url)\n",
    "dataset = np.loadtxt(raw_data, delimiter = ' ')"
   ]
  },
  {
   "cell_type": "code",
   "execution_count": 4,
   "metadata": {},
   "outputs": [
    {
     "name": "stdout",
     "output_type": "stream",
     "text": [
      "(58509, 49)\n"
     ]
    }
   ],
   "source": [
    "print(dataset.shape) # using which we can note that there are 58509 rows (datapoints) and 49 columns (attributes)"
   ]
  },
  {
   "cell_type": "code",
   "execution_count": 5,
   "metadata": {
    "collapsed": true
   },
   "outputs": [],
   "source": [
    "df = pd.DataFrame(dataset) # converting numpy array into an dataframe for easy analysis\n",
    "df.to_csv('sensorless_drive.csv',  index = False)"
   ]
  },
  {
   "cell_type": "markdown",
   "metadata": {},
   "source": [
    "### Data Visulaization"
   ]
  },
  {
   "cell_type": "code",
   "execution_count": 6,
   "metadata": {
    "scrolled": true
   },
   "outputs": [
    {
     "data": {
      "text/html": [
       "<div>\n",
       "<style scoped>\n",
       "    .dataframe tbody tr th:only-of-type {\n",
       "        vertical-align: middle;\n",
       "    }\n",
       "\n",
       "    .dataframe tbody tr th {\n",
       "        vertical-align: top;\n",
       "    }\n",
       "\n",
       "    .dataframe thead th {\n",
       "        text-align: right;\n",
       "    }\n",
       "</style>\n",
       "<table border=\"1\" class=\"dataframe\">\n",
       "  <thead>\n",
       "    <tr style=\"text-align: right;\">\n",
       "      <th></th>\n",
       "      <th>0</th>\n",
       "      <th>1</th>\n",
       "      <th>2</th>\n",
       "      <th>3</th>\n",
       "      <th>4</th>\n",
       "      <th>5</th>\n",
       "      <th>6</th>\n",
       "      <th>7</th>\n",
       "      <th>8</th>\n",
       "      <th>9</th>\n",
       "      <th>...</th>\n",
       "      <th>39</th>\n",
       "      <th>40</th>\n",
       "      <th>41</th>\n",
       "      <th>42</th>\n",
       "      <th>43</th>\n",
       "      <th>44</th>\n",
       "      <th>45</th>\n",
       "      <th>46</th>\n",
       "      <th>47</th>\n",
       "      <th>48</th>\n",
       "    </tr>\n",
       "  </thead>\n",
       "  <tbody>\n",
       "    <tr>\n",
       "      <th>0</th>\n",
       "      <td>-3.014600e-07</td>\n",
       "      <td>8.260300e-06</td>\n",
       "      <td>-0.000012</td>\n",
       "      <td>-0.000002</td>\n",
       "      <td>-1.438600e-06</td>\n",
       "      <td>-0.000021</td>\n",
       "      <td>0.031718</td>\n",
       "      <td>0.031710</td>\n",
       "      <td>0.031721</td>\n",
       "      <td>-0.032963</td>\n",
       "      <td>...</td>\n",
       "      <td>-0.63308</td>\n",
       "      <td>2.9646</td>\n",
       "      <td>8.1198</td>\n",
       "      <td>-1.4961</td>\n",
       "      <td>-1.4961</td>\n",
       "      <td>-1.4961</td>\n",
       "      <td>-1.4996</td>\n",
       "      <td>-1.4996</td>\n",
       "      <td>-1.4996</td>\n",
       "      <td>1.0</td>\n",
       "    </tr>\n",
       "    <tr>\n",
       "      <th>1</th>\n",
       "      <td>2.913200e-06</td>\n",
       "      <td>-5.247700e-06</td>\n",
       "      <td>0.000003</td>\n",
       "      <td>-0.000006</td>\n",
       "      <td>2.778900e-06</td>\n",
       "      <td>-0.000004</td>\n",
       "      <td>0.030804</td>\n",
       "      <td>0.030810</td>\n",
       "      <td>0.030806</td>\n",
       "      <td>-0.033520</td>\n",
       "      <td>...</td>\n",
       "      <td>-0.59314</td>\n",
       "      <td>7.6252</td>\n",
       "      <td>6.1690</td>\n",
       "      <td>-1.4967</td>\n",
       "      <td>-1.4967</td>\n",
       "      <td>-1.4967</td>\n",
       "      <td>-1.5005</td>\n",
       "      <td>-1.5005</td>\n",
       "      <td>-1.5005</td>\n",
       "      <td>1.0</td>\n",
       "    </tr>\n",
       "    <tr>\n",
       "      <th>2</th>\n",
       "      <td>-2.951700e-06</td>\n",
       "      <td>-3.184000e-06</td>\n",
       "      <td>-0.000016</td>\n",
       "      <td>-0.000001</td>\n",
       "      <td>-1.575300e-06</td>\n",
       "      <td>0.000017</td>\n",
       "      <td>0.032877</td>\n",
       "      <td>0.032880</td>\n",
       "      <td>0.032896</td>\n",
       "      <td>-0.029834</td>\n",
       "      <td>...</td>\n",
       "      <td>-0.63252</td>\n",
       "      <td>2.7784</td>\n",
       "      <td>5.3017</td>\n",
       "      <td>-1.4983</td>\n",
       "      <td>-1.4983</td>\n",
       "      <td>-1.4982</td>\n",
       "      <td>-1.4985</td>\n",
       "      <td>-1.4985</td>\n",
       "      <td>-1.4985</td>\n",
       "      <td>1.0</td>\n",
       "    </tr>\n",
       "    <tr>\n",
       "      <th>3</th>\n",
       "      <td>-1.322600e-06</td>\n",
       "      <td>8.820100e-06</td>\n",
       "      <td>-0.000016</td>\n",
       "      <td>-0.000005</td>\n",
       "      <td>-7.282900e-07</td>\n",
       "      <td>0.000004</td>\n",
       "      <td>0.029410</td>\n",
       "      <td>0.029401</td>\n",
       "      <td>0.029417</td>\n",
       "      <td>-0.030156</td>\n",
       "      <td>...</td>\n",
       "      <td>-0.62289</td>\n",
       "      <td>6.5534</td>\n",
       "      <td>6.2606</td>\n",
       "      <td>-1.4963</td>\n",
       "      <td>-1.4963</td>\n",
       "      <td>-1.4963</td>\n",
       "      <td>-1.4975</td>\n",
       "      <td>-1.4975</td>\n",
       "      <td>-1.4976</td>\n",
       "      <td>1.0</td>\n",
       "    </tr>\n",
       "    <tr>\n",
       "      <th>4</th>\n",
       "      <td>-6.836600e-08</td>\n",
       "      <td>5.666300e-07</td>\n",
       "      <td>-0.000026</td>\n",
       "      <td>-0.000006</td>\n",
       "      <td>-7.940600e-07</td>\n",
       "      <td>0.000013</td>\n",
       "      <td>0.030119</td>\n",
       "      <td>0.030119</td>\n",
       "      <td>0.030145</td>\n",
       "      <td>-0.031393</td>\n",
       "      <td>...</td>\n",
       "      <td>-0.63010</td>\n",
       "      <td>4.5155</td>\n",
       "      <td>9.5231</td>\n",
       "      <td>-1.4958</td>\n",
       "      <td>-1.4958</td>\n",
       "      <td>-1.4958</td>\n",
       "      <td>-1.4959</td>\n",
       "      <td>-1.4959</td>\n",
       "      <td>-1.4959</td>\n",
       "      <td>1.0</td>\n",
       "    </tr>\n",
       "  </tbody>\n",
       "</table>\n",
       "<p>5 rows × 49 columns</p>\n",
       "</div>"
      ],
      "text/plain": [
       "              0             1         2         3             4         5  \\\n",
       "0 -3.014600e-07  8.260300e-06 -0.000012 -0.000002 -1.438600e-06 -0.000021   \n",
       "1  2.913200e-06 -5.247700e-06  0.000003 -0.000006  2.778900e-06 -0.000004   \n",
       "2 -2.951700e-06 -3.184000e-06 -0.000016 -0.000001 -1.575300e-06  0.000017   \n",
       "3 -1.322600e-06  8.820100e-06 -0.000016 -0.000005 -7.282900e-07  0.000004   \n",
       "4 -6.836600e-08  5.666300e-07 -0.000026 -0.000006 -7.940600e-07  0.000013   \n",
       "\n",
       "          6         7         8         9 ...        39      40      41  \\\n",
       "0  0.031718  0.031710  0.031721 -0.032963 ...  -0.63308  2.9646  8.1198   \n",
       "1  0.030804  0.030810  0.030806 -0.033520 ...  -0.59314  7.6252  6.1690   \n",
       "2  0.032877  0.032880  0.032896 -0.029834 ...  -0.63252  2.7784  5.3017   \n",
       "3  0.029410  0.029401  0.029417 -0.030156 ...  -0.62289  6.5534  6.2606   \n",
       "4  0.030119  0.030119  0.030145 -0.031393 ...  -0.63010  4.5155  9.5231   \n",
       "\n",
       "       42      43      44      45      46      47   48  \n",
       "0 -1.4961 -1.4961 -1.4961 -1.4996 -1.4996 -1.4996  1.0  \n",
       "1 -1.4967 -1.4967 -1.4967 -1.5005 -1.5005 -1.5005  1.0  \n",
       "2 -1.4983 -1.4983 -1.4982 -1.4985 -1.4985 -1.4985  1.0  \n",
       "3 -1.4963 -1.4963 -1.4963 -1.4975 -1.4975 -1.4976  1.0  \n",
       "4 -1.4958 -1.4958 -1.4958 -1.4959 -1.4959 -1.4959  1.0  \n",
       "\n",
       "[5 rows x 49 columns]"
      ]
     },
     "execution_count": 6,
     "metadata": {},
     "output_type": "execute_result"
    }
   ],
   "source": [
    "drive_df = pd.read_csv('sensorless_drive.csv')\n",
    "drive_df.head()"
   ]
  },
  {
   "cell_type": "markdown",
   "metadata": {},
   "source": [
    "The input features need to be scaled because they vary from one another by many orders of magnitude. "
   ]
  },
  {
   "cell_type": "code",
   "execution_count": 7,
   "metadata": {},
   "outputs": [
    {
     "name": "stdout",
     "output_type": "stream",
     "text": [
      "<class 'pandas.core.frame.DataFrame'>\n",
      "RangeIndex: 58509 entries, 0 to 58508\n",
      "Data columns (total 49 columns):\n",
      "0     58509 non-null float64\n",
      "1     58509 non-null float64\n",
      "2     58509 non-null float64\n",
      "3     58509 non-null float64\n",
      "4     58509 non-null float64\n",
      "5     58509 non-null float64\n",
      "6     58509 non-null float64\n",
      "7     58509 non-null float64\n",
      "8     58509 non-null float64\n",
      "9     58509 non-null float64\n",
      "10    58509 non-null float64\n",
      "11    58509 non-null float64\n",
      "12    58509 non-null float64\n",
      "13    58509 non-null float64\n",
      "14    58509 non-null float64\n",
      "15    58509 non-null float64\n",
      "16    58509 non-null float64\n",
      "17    58509 non-null float64\n",
      "18    58509 non-null float64\n",
      "19    58509 non-null float64\n",
      "20    58509 non-null float64\n",
      "21    58509 non-null float64\n",
      "22    58509 non-null float64\n",
      "23    58509 non-null float64\n",
      "24    58509 non-null float64\n",
      "25    58509 non-null float64\n",
      "26    58509 non-null float64\n",
      "27    58509 non-null float64\n",
      "28    58509 non-null float64\n",
      "29    58509 non-null float64\n",
      "30    58509 non-null float64\n",
      "31    58509 non-null float64\n",
      "32    58509 non-null float64\n",
      "33    58509 non-null float64\n",
      "34    58509 non-null float64\n",
      "35    58509 non-null float64\n",
      "36    58509 non-null float64\n",
      "37    58509 non-null float64\n",
      "38    58509 non-null float64\n",
      "39    58509 non-null float64\n",
      "40    58509 non-null float64\n",
      "41    58509 non-null float64\n",
      "42    58509 non-null float64\n",
      "43    58509 non-null float64\n",
      "44    58509 non-null float64\n",
      "45    58509 non-null float64\n",
      "46    58509 non-null float64\n",
      "47    58509 non-null float64\n",
      "48    58509 non-null float64\n",
      "dtypes: float64(49)\n",
      "memory usage: 21.9 MB\n"
     ]
    }
   ],
   "source": [
    "drive_df.info()"
   ]
  },
  {
   "cell_type": "markdown",
   "metadata": {},
   "source": [
    "No missing values or undefined objects. Data set does not require further cleaning."
   ]
  },
  {
   "cell_type": "code",
   "execution_count": 8,
   "metadata": {
    "scrolled": true
   },
   "outputs": [
    {
     "data": {
      "text/html": [
       "<div>\n",
       "<style scoped>\n",
       "    .dataframe tbody tr th:only-of-type {\n",
       "        vertical-align: middle;\n",
       "    }\n",
       "\n",
       "    .dataframe tbody tr th {\n",
       "        vertical-align: top;\n",
       "    }\n",
       "\n",
       "    .dataframe thead th {\n",
       "        text-align: right;\n",
       "    }\n",
       "</style>\n",
       "<table border=\"1\" class=\"dataframe\">\n",
       "  <thead>\n",
       "    <tr style=\"text-align: right;\">\n",
       "      <th></th>\n",
       "      <th>0</th>\n",
       "      <th>1</th>\n",
       "      <th>2</th>\n",
       "      <th>3</th>\n",
       "      <th>4</th>\n",
       "      <th>5</th>\n",
       "      <th>6</th>\n",
       "      <th>7</th>\n",
       "      <th>8</th>\n",
       "      <th>9</th>\n",
       "      <th>...</th>\n",
       "      <th>39</th>\n",
       "      <th>40</th>\n",
       "      <th>41</th>\n",
       "      <th>42</th>\n",
       "      <th>43</th>\n",
       "      <th>44</th>\n",
       "      <th>45</th>\n",
       "      <th>46</th>\n",
       "      <th>47</th>\n",
       "      <th>48</th>\n",
       "    </tr>\n",
       "  </thead>\n",
       "  <tbody>\n",
       "    <tr>\n",
       "      <th>count</th>\n",
       "      <td>58509.000000</td>\n",
       "      <td>5.850900e+04</td>\n",
       "      <td>5.850900e+04</td>\n",
       "      <td>58509.000000</td>\n",
       "      <td>5.850900e+04</td>\n",
       "      <td>5.850900e+04</td>\n",
       "      <td>58509.000000</td>\n",
       "      <td>58509.000000</td>\n",
       "      <td>58509.000000</td>\n",
       "      <td>58509.000000</td>\n",
       "      <td>...</td>\n",
       "      <td>58509.000000</td>\n",
       "      <td>58509.000000</td>\n",
       "      <td>58509.000000</td>\n",
       "      <td>58509.000000</td>\n",
       "      <td>58509.000000</td>\n",
       "      <td>58509.000000</td>\n",
       "      <td>58509.000000</td>\n",
       "      <td>58509.000000</td>\n",
       "      <td>58509.000000</td>\n",
       "      <td>58509.000000</td>\n",
       "    </tr>\n",
       "    <tr>\n",
       "      <th>mean</th>\n",
       "      <td>-0.000003</td>\n",
       "      <td>1.439648e-06</td>\n",
       "      <td>1.412013e-06</td>\n",
       "      <td>-0.000001</td>\n",
       "      <td>1.351239e-06</td>\n",
       "      <td>-2.654483e-07</td>\n",
       "      <td>0.001915</td>\n",
       "      <td>0.001913</td>\n",
       "      <td>0.001912</td>\n",
       "      <td>-0.011897</td>\n",
       "      <td>...</td>\n",
       "      <td>-0.397757</td>\n",
       "      <td>7.293781</td>\n",
       "      <td>8.273772</td>\n",
       "      <td>-1.500887</td>\n",
       "      <td>-1.500912</td>\n",
       "      <td>-1.500805</td>\n",
       "      <td>-1.497771</td>\n",
       "      <td>-1.497794</td>\n",
       "      <td>-1.497686</td>\n",
       "      <td>6.000000</td>\n",
       "    </tr>\n",
       "    <tr>\n",
       "      <th>std</th>\n",
       "      <td>0.000072</td>\n",
       "      <td>5.555429e-05</td>\n",
       "      <td>2.353009e-04</td>\n",
       "      <td>0.000063</td>\n",
       "      <td>5.660943e-05</td>\n",
       "      <td>2.261907e-04</td>\n",
       "      <td>0.036468</td>\n",
       "      <td>0.036465</td>\n",
       "      <td>0.036470</td>\n",
       "      <td>0.066482</td>\n",
       "      <td>...</td>\n",
       "      <td>25.018728</td>\n",
       "      <td>12.451781</td>\n",
       "      <td>6.565952</td>\n",
       "      <td>0.003657</td>\n",
       "      <td>0.003668</td>\n",
       "      <td>0.003632</td>\n",
       "      <td>0.003163</td>\n",
       "      <td>0.003163</td>\n",
       "      <td>0.003175</td>\n",
       "      <td>3.162305</td>\n",
       "    </tr>\n",
       "    <tr>\n",
       "      <th>min</th>\n",
       "      <td>-0.013721</td>\n",
       "      <td>-5.414400e-03</td>\n",
       "      <td>-1.358000e-02</td>\n",
       "      <td>-0.012787</td>\n",
       "      <td>-8.355900e-03</td>\n",
       "      <td>-9.741300e-03</td>\n",
       "      <td>-0.139890</td>\n",
       "      <td>-0.135940</td>\n",
       "      <td>-0.130860</td>\n",
       "      <td>-0.218640</td>\n",
       "      <td>...</td>\n",
       "      <td>-0.902350</td>\n",
       "      <td>-0.596830</td>\n",
       "      <td>0.320660</td>\n",
       "      <td>-1.525500</td>\n",
       "      <td>-1.526200</td>\n",
       "      <td>-1.523700</td>\n",
       "      <td>-1.521400</td>\n",
       "      <td>-1.523200</td>\n",
       "      <td>-1.521300</td>\n",
       "      <td>1.000000</td>\n",
       "    </tr>\n",
       "    <tr>\n",
       "      <th>25%</th>\n",
       "      <td>-0.000007</td>\n",
       "      <td>-1.444400e-05</td>\n",
       "      <td>-7.239600e-05</td>\n",
       "      <td>-0.000005</td>\n",
       "      <td>-1.475300e-05</td>\n",
       "      <td>-7.379100e-05</td>\n",
       "      <td>-0.019927</td>\n",
       "      <td>-0.019951</td>\n",
       "      <td>-0.019925</td>\n",
       "      <td>-0.032144</td>\n",
       "      <td>...</td>\n",
       "      <td>-0.715470</td>\n",
       "      <td>1.450300</td>\n",
       "      <td>4.436300</td>\n",
       "      <td>-1.503300</td>\n",
       "      <td>-1.503400</td>\n",
       "      <td>-1.503200</td>\n",
       "      <td>-1.499600</td>\n",
       "      <td>-1.499600</td>\n",
       "      <td>-1.499500</td>\n",
       "      <td>3.000000</td>\n",
       "    </tr>\n",
       "    <tr>\n",
       "      <th>50%</th>\n",
       "      <td>-0.000003</td>\n",
       "      <td>8.804600e-07</td>\n",
       "      <td>5.137700e-07</td>\n",
       "      <td>-0.000001</td>\n",
       "      <td>7.540200e-07</td>\n",
       "      <td>-1.659300e-07</td>\n",
       "      <td>0.013226</td>\n",
       "      <td>0.013230</td>\n",
       "      <td>0.013247</td>\n",
       "      <td>-0.015566</td>\n",
       "      <td>...</td>\n",
       "      <td>-0.661710</td>\n",
       "      <td>3.301300</td>\n",
       "      <td>6.479100</td>\n",
       "      <td>-1.500300</td>\n",
       "      <td>-1.500300</td>\n",
       "      <td>-1.500300</td>\n",
       "      <td>-1.498100</td>\n",
       "      <td>-1.498100</td>\n",
       "      <td>-1.498000</td>\n",
       "      <td>6.000000</td>\n",
       "    </tr>\n",
       "    <tr>\n",
       "      <th>75%</th>\n",
       "      <td>0.000002</td>\n",
       "      <td>1.877700e-05</td>\n",
       "      <td>7.520000e-05</td>\n",
       "      <td>0.000004</td>\n",
       "      <td>1.906200e-05</td>\n",
       "      <td>7.138600e-05</td>\n",
       "      <td>0.024770</td>\n",
       "      <td>0.024776</td>\n",
       "      <td>0.024777</td>\n",
       "      <td>0.020614</td>\n",
       "      <td>...</td>\n",
       "      <td>-0.573980</td>\n",
       "      <td>8.288500</td>\n",
       "      <td>9.857500</td>\n",
       "      <td>-1.498200</td>\n",
       "      <td>-1.498200</td>\n",
       "      <td>-1.498200</td>\n",
       "      <td>-1.496200</td>\n",
       "      <td>-1.496300</td>\n",
       "      <td>-1.496200</td>\n",
       "      <td>9.000000</td>\n",
       "    </tr>\n",
       "    <tr>\n",
       "      <th>max</th>\n",
       "      <td>0.005784</td>\n",
       "      <td>4.525300e-03</td>\n",
       "      <td>5.237700e-03</td>\n",
       "      <td>0.001453</td>\n",
       "      <td>8.245100e-04</td>\n",
       "      <td>2.753600e-03</td>\n",
       "      <td>0.069125</td>\n",
       "      <td>0.069130</td>\n",
       "      <td>0.069131</td>\n",
       "      <td>0.352580</td>\n",
       "      <td>...</td>\n",
       "      <td>3670.800000</td>\n",
       "      <td>889.930000</td>\n",
       "      <td>153.150000</td>\n",
       "      <td>-1.457600</td>\n",
       "      <td>-1.456100</td>\n",
       "      <td>-1.455500</td>\n",
       "      <td>-1.337200</td>\n",
       "      <td>-1.337200</td>\n",
       "      <td>-1.337100</td>\n",
       "      <td>11.000000</td>\n",
       "    </tr>\n",
       "  </tbody>\n",
       "</table>\n",
       "<p>8 rows × 49 columns</p>\n",
       "</div>"
      ],
      "text/plain": [
       "                  0             1             2             3             4  \\\n",
       "count  58509.000000  5.850900e+04  5.850900e+04  58509.000000  5.850900e+04   \n",
       "mean      -0.000003  1.439648e-06  1.412013e-06     -0.000001  1.351239e-06   \n",
       "std        0.000072  5.555429e-05  2.353009e-04      0.000063  5.660943e-05   \n",
       "min       -0.013721 -5.414400e-03 -1.358000e-02     -0.012787 -8.355900e-03   \n",
       "25%       -0.000007 -1.444400e-05 -7.239600e-05     -0.000005 -1.475300e-05   \n",
       "50%       -0.000003  8.804600e-07  5.137700e-07     -0.000001  7.540200e-07   \n",
       "75%        0.000002  1.877700e-05  7.520000e-05      0.000004  1.906200e-05   \n",
       "max        0.005784  4.525300e-03  5.237700e-03      0.001453  8.245100e-04   \n",
       "\n",
       "                  5             6             7             8             9  \\\n",
       "count  5.850900e+04  58509.000000  58509.000000  58509.000000  58509.000000   \n",
       "mean  -2.654483e-07      0.001915      0.001913      0.001912     -0.011897   \n",
       "std    2.261907e-04      0.036468      0.036465      0.036470      0.066482   \n",
       "min   -9.741300e-03     -0.139890     -0.135940     -0.130860     -0.218640   \n",
       "25%   -7.379100e-05     -0.019927     -0.019951     -0.019925     -0.032144   \n",
       "50%   -1.659300e-07      0.013226      0.013230      0.013247     -0.015566   \n",
       "75%    7.138600e-05      0.024770      0.024776      0.024777      0.020614   \n",
       "max    2.753600e-03      0.069125      0.069130      0.069131      0.352580   \n",
       "\n",
       "           ...                 39            40            41            42  \\\n",
       "count      ...       58509.000000  58509.000000  58509.000000  58509.000000   \n",
       "mean       ...          -0.397757      7.293781      8.273772     -1.500887   \n",
       "std        ...          25.018728     12.451781      6.565952      0.003657   \n",
       "min        ...          -0.902350     -0.596830      0.320660     -1.525500   \n",
       "25%        ...          -0.715470      1.450300      4.436300     -1.503300   \n",
       "50%        ...          -0.661710      3.301300      6.479100     -1.500300   \n",
       "75%        ...          -0.573980      8.288500      9.857500     -1.498200   \n",
       "max        ...        3670.800000    889.930000    153.150000     -1.457600   \n",
       "\n",
       "                 43            44            45            46            47  \\\n",
       "count  58509.000000  58509.000000  58509.000000  58509.000000  58509.000000   \n",
       "mean      -1.500912     -1.500805     -1.497771     -1.497794     -1.497686   \n",
       "std        0.003668      0.003632      0.003163      0.003163      0.003175   \n",
       "min       -1.526200     -1.523700     -1.521400     -1.523200     -1.521300   \n",
       "25%       -1.503400     -1.503200     -1.499600     -1.499600     -1.499500   \n",
       "50%       -1.500300     -1.500300     -1.498100     -1.498100     -1.498000   \n",
       "75%       -1.498200     -1.498200     -1.496200     -1.496300     -1.496200   \n",
       "max       -1.456100     -1.455500     -1.337200     -1.337200     -1.337100   \n",
       "\n",
       "                 48  \n",
       "count  58509.000000  \n",
       "mean       6.000000  \n",
       "std        3.162305  \n",
       "min        1.000000  \n",
       "25%        3.000000  \n",
       "50%        6.000000  \n",
       "75%        9.000000  \n",
       "max       11.000000  \n",
       "\n",
       "[8 rows x 49 columns]"
      ]
     },
     "execution_count": 8,
     "metadata": {},
     "output_type": "execute_result"
    }
   ],
   "source": [
    "drive_df.describe()"
   ]
  },
  {
   "cell_type": "markdown",
   "metadata": {
    "scrolled": true
   },
   "source": [
    "scatter_matrix(drive_df)"
   ]
  },
  {
   "cell_type": "code",
   "execution_count": 12,
   "metadata": {},
   "outputs": [
    {
     "data": {
      "text/plain": [
       "48    1.000000\n",
       "44    0.081956\n",
       "43    0.081503\n",
       "42    0.080970\n",
       "20    0.062139\n",
       "19    0.062117\n",
       "18    0.062109\n",
       "23    0.061153\n",
       "22    0.061140\n",
       "21    0.061139\n",
       "24    0.022642\n",
       "16    0.021232\n",
       "17    0.017817\n",
       "27    0.015957\n",
       "40    0.013720\n",
       "15    0.012257\n",
       "41    0.011424\n",
       "38    0.010056\n",
       "29    0.007787\n",
       "3     0.005692\n",
       "12    0.003906\n",
       "36    0.001820\n",
       "39   -0.003199\n",
       "46   -0.004733\n",
       "45   -0.004803\n",
       "14   -0.005486\n",
       "47   -0.005974\n",
       "26   -0.006269\n",
       "37   -0.007184\n",
       "13   -0.007374\n",
       "0    -0.017853\n",
       "2    -0.030237\n",
       "5    -0.035783\n",
       "28   -0.046241\n",
       "25   -0.048018\n",
       "1    -0.098850\n",
       "4    -0.110669\n",
       "31   -0.117675\n",
       "30   -0.118155\n",
       "32   -0.118320\n",
       "34   -0.153533\n",
       "35   -0.153579\n",
       "33   -0.153816\n",
       "11   -0.340086\n",
       "10   -0.340194\n",
       "9    -0.340275\n",
       "8    -0.407069\n",
       "7    -0.407312\n",
       "6    -0.407439\n",
       "Name: 48, dtype: float64"
      ]
     },
     "execution_count": 12,
     "metadata": {},
     "output_type": "execute_result"
    }
   ],
   "source": [
    "#Correlation Matrix of features and response\n",
    "corr_matrix = drive_df.corr()\n",
    "corr_matrix['48'].sort_values(ascending=False)"
   ]
  },
  {
   "cell_type": "code",
   "execution_count": 11,
   "metadata": {},
   "outputs": [
    {
     "name": "stdout",
     "output_type": "stream",
     "text": [
      "Number of samples in class 1 = 5319\n",
      "Number of samples in class 2 = 5319\n",
      "Number of samples in class 3 = 5319\n",
      "Number of samples in class 4 = 5319\n",
      "Number of samples in class 5 = 5319\n",
      "Number of samples in class 6 = 5319\n",
      "Number of samples in class 7 = 5319\n",
      "Number of samples in class 8 = 5319\n",
      "Number of samples in class 9 = 5319\n",
      "Number of samples in class 10 = 5319\n",
      "Number of samples in class 11 = 5319\n"
     ]
    }
   ],
   "source": [
    "for i in range(1,12):\n",
    "    n = len(drive_df[drive_df['48']==i])\n",
    "    print('Number of samples in class {0} = {1}'.format(i, n))"
   ]
  },
  {
   "cell_type": "markdown",
   "metadata": {},
   "source": [
    "There are equal number of samples in each class. Therefore, it can be concluded that this is a balanced data set. "
   ]
  },
  {
   "cell_type": "code",
   "execution_count": 10,
   "metadata": {
    "collapsed": true
   },
   "outputs": [],
   "source": [
    "#Define feature set and output\n",
    "X = drive_df.drop([\"48\"], axis =1)\n",
    "# X = drive_df[['1', '2', '3', '4', '5', '6', '13', '14', '20', '24', '32', '33', '36', '37', '39', '43']]\n",
    "y = drive_df[\"48\"]\n",
    "\n",
    "#Feature scaling\n",
    "scaler = StandardScaler()\n",
    "X_scaled = scaler.fit_transform(X)\n",
    "\n",
    "# Separate into train and test sets. \n",
    "X_train, X_test, y_train, y_test = train_test_split(X_scaled, y, test_size = 0.3, random_state= 42)"
   ]
  },
  {
   "cell_type": "markdown",
   "metadata": {},
   "source": [
    "### Model I : Logistic Regression "
   ]
  },
  {
   "cell_type": "code",
   "execution_count": 13,
   "metadata": {},
   "outputs": [
    {
     "name": "stdout",
     "output_type": "stream",
     "text": [
      "Train Accuracy = 75.47%\n"
     ]
    }
   ],
   "source": [
    "#Train Classifier\n",
    "log_reg = skl_lm.LogisticRegression(solver='newton-cg', C=1)\n",
    "log_reg.fit(X_train,y_train)\n",
    "\n",
    "y_train_pred = log_reg.predict(X_train)\n",
    "train_accuracy = accuracy_score(y_train, y_train_pred)\n",
    "\n",
    "print('Train Accuracy = {0:.2f}%'.format(train_accuracy*100))"
   ]
  },
  {
   "cell_type": "markdown",
   "metadata": {},
   "source": [
    "#### Model Tuning and Feature Optimization"
   ]
  },
  {
   "cell_type": "code",
   "execution_count": 14,
   "metadata": {},
   "outputs": [
    {
     "name": "stdout",
     "output_type": "stream",
     "text": [
      "Train Accuracy = 76.91%\n"
     ]
    }
   ],
   "source": [
    "#Train Classifier\n",
    "log_reg = skl_lm.LogisticRegression(solver='newton-cg', C=700)\n",
    "log_reg.fit(X_train,y_train)\n",
    "\n",
    "y_train_pred = log_reg.predict(X_train)\n",
    "train_accuracy = accuracy_score(y_train, y_train_pred)\n",
    "\n",
    "print('Train Accuracy = {0:.2f}%'.format(train_accuracy*100))"
   ]
  },
  {
   "cell_type": "markdown",
   "metadata": {},
   "source": [
    "Scikit-Learn Logistic Regression function has a built in regularization hyperparameter called the C hyperparameter. By default, C is L2 regularization. C hyperparameter signifies inverse of regularization. C value was increased to reduce redularization. C parameter was fine-tuned from 1 to 1000 which gave a slight improvement (~2%) in the model train accuracy."
   ]
  },
  {
   "cell_type": "code",
   "execution_count": 16,
   "metadata": {},
   "outputs": [
    {
     "data": {
      "text/plain": [
       "RFECV(cv=StratifiedKFold(n_splits=2, random_state=None, shuffle=False),\n",
       "   estimator=LogisticRegression(C=700, class_weight=None, dual=False, fit_intercept=True,\n",
       "          intercept_scaling=1, max_iter=100, multi_class='ovr', n_jobs=1,\n",
       "          penalty='l2', random_state=None, solver='newton-cg', tol=0.0001,\n",
       "          verbose=0, warm_start=False),\n",
       "   n_jobs=1, scoring='accuracy', step=1, verbose=0)"
      ]
     },
     "execution_count": 16,
     "metadata": {},
     "output_type": "execute_result"
    }
   ],
   "source": [
    "# Feature set optimization : Recursive Feature Elimination and Cross Validation\n",
    "# The \"accuracy\" scoring is proportional to the number of correct classifications\n",
    "log_rfecv = RFECV(estimator=log_reg, step=1, cv=StratifiedKFold(2), scoring='accuracy')\n",
    "log_rfecv.fit(X_train, y_train)"
   ]
  },
  {
   "cell_type": "markdown",
   "metadata": {},
   "source": [
    "For the logistic regression classifier, feature selection is done using Recursive Feature Elimination or Backward Selection technique. For each feature eliminated, a two-fold cross validation is performed. Based on the CV scores the best set of features are chosen. "
   ]
  },
  {
   "cell_type": "code",
   "execution_count": 170,
   "metadata": {},
   "outputs": [
    {
     "data": {
      "image/png": "[encoded data removed]",
      "text/plain": [
       "<matplotlib.figure.Figure at 0x1a14727470>"
      ]
     },
     "metadata": {},
     "output_type": "display_data"
    },
    {
     "name": "stdout",
     "output_type": "stream",
     "text": [
      "Optimal number of features : 4\n"
     ]
    }
   ],
   "source": [
    "# Plot number of features VS. cross-validation scores\n",
    "plt.figure(figsize=(15,6))\n",
    "plt.xlim(0, 50)\n",
    "plt.xticks(range(1,51))\n",
    "plt.xlabel(\"Number of features selected\")\n",
    "plt.ylabel(\"Cross validation Error Rate\")\n",
    "plt.title('Logistic Regression Feature Set Optimization')\n",
    "plt.plot(range(1, len(log_rfecv.grid_scores_) + 1), 1-log_rfecv.grid_scores_,'r-o', linewidth=2.5)\n",
    "plt.grid()\n",
    "plt.show()\n",
    "\n",
    "print(\"Optimal number of features : %d\" % log_rfecv.n_features_)"
   ]
  },
  {
   "cell_type": "markdown",
   "metadata": {},
   "source": [
    "CV Error rate is the least when there are only 4 input features. The classifier is fit on the optimized dataset to obtain the improved model."
   ]
  },
  {
   "cell_type": "code",
   "execution_count": 37,
   "metadata": {},
   "outputs": [
    {
     "data": {
      "text/plain": [
       "array([25, 29, 42, 24, 27, 44,  1,  1, 11,  1,  1,  6, 17, 31, 40, 18, 28,\n",
       "       36,  3, 10,  2,  4,  7,  5, 16, 39, 43, 21, 34, 41, 13, 12, 30,  8,\n",
       "        9, 26, 15, 37, 45, 14, 32, 38, 22, 23, 35, 20, 19, 33])"
      ]
     },
     "execution_count": 37,
     "metadata": {},
     "output_type": "execute_result"
    }
   ],
   "source": [
    "#Analysis\n",
    "log_rfecv.ranking_"
   ]
  },
  {
   "cell_type": "markdown",
   "metadata": {},
   "source": [
    "#### Improved Classifier"
   ]
  },
  {
   "cell_type": "code",
   "execution_count": 26,
   "metadata": {},
   "outputs": [
    {
     "name": "stdout",
     "output_type": "stream",
     "text": [
      "Train Accuracy = 77.91%\n"
     ]
    }
   ],
   "source": [
    "y_train_pred = log_rfecv.predict(X_train)\n",
    "train_accuracy = accuracy_score(y_train, y_train_pred)\n",
    "\n",
    "print('Train Accuracy = {0:.2f}%'.format(train_accuracy*100))"
   ]
  },
  {
   "cell_type": "code",
   "execution_count": 27,
   "metadata": {
    "scrolled": true
   },
   "outputs": [
    {
     "name": "stdout",
     "output_type": "stream",
     "text": [
      "Train Confusion Matrix : \n",
      " [[2973    0    0    0    0  464    0    4  261    0    0]\n",
      " [   1 2622   13   44    0    1    0    0   60  932    0]\n",
      " [   0    0 3068  229  264   13    0    0    1  173    0]\n",
      " [   0    0  116 3021  264    0    2   88    0  251    0]\n",
      " [   7    0  229  306 2389   43    0  758    0    9    0]\n",
      " [ 978    0   96    0   21 1953    0    6  657    0    0]\n",
      " [   0    0    0    0    0    0 3689    0    0    0    0]\n",
      " [ 335    0   88   59  774   36    0 2465    6    1    0]\n",
      " [ 423   29   54   16    6  518    0    3 2742    1    0]\n",
      " [   0  373    0   33    0    0    0    0    0 3320    0]\n",
      " [   0    0    0    0    0    0    0    0    0    0 3668]]\n"
     ]
    }
   ],
   "source": [
    "#Generate train confustion matrix\n",
    "conf_matrix_train = confusion_matrix(y_train, y_train_pred)\n",
    "print(\"Train Confusion Matrix : \\n\", conf_matrix_train)"
   ]
  },
  {
   "cell_type": "markdown",
   "metadata": {},
   "source": [
    "#### Test Set Performance"
   ]
  },
  {
   "cell_type": "code",
   "execution_count": 29,
   "metadata": {},
   "outputs": [
    {
     "name": "stdout",
     "output_type": "stream",
     "text": [
      "Test Accuracy =77.83%\n"
     ]
    }
   ],
   "source": [
    "#Applying the final model on the test set\n",
    "y_test_pred = log_rfecv.predict(X_test)\n",
    "test_accuracy = accuracy_score(y_test,y_test_pred)\n",
    "\n",
    "print('Test Accuracy ={0:.2f}%'.format(test_accuracy*100))"
   ]
  },
  {
   "cell_type": "code",
   "execution_count": 30,
   "metadata": {},
   "outputs": [
    {
     "name": "stdout",
     "output_type": "stream",
     "text": [
      "Test Confusion Matrix : \n",
      " [[1317    0    0    0    0  190    0    2  108    0    0]\n",
      " [   1 1171    9   17    0    0    0    0   24  424    0]\n",
      " [   0    3 1294  100  113    5    0    1    0   55    0]\n",
      " [   0    0   47 1255  117    0    0   43    0  115    0]\n",
      " [   5    0   92  138  972   14    0  351    0    6    0]\n",
      " [ 413    0   48    0   15  850    0    1  281    0    0]\n",
      " [   0    0    0    0    0    0 1630    0    0    0    0]\n",
      " [ 147    0   43   30  303    9    0 1020    3    0    0]\n",
      " [ 199   12   20    4    2  206    0    2 1080    2    0]\n",
      " [   0  158    0   13    0    0    0    0    1 1421    0]\n",
      " [   0    0    0    0    0    0    0    0    0    0 1651]]\n"
     ]
    }
   ],
   "source": [
    "#Generate test confusion matrix\n",
    "conf_matrix_test = confusion_matrix(y_test, y_test_pred)\n",
    "print(\"Test Confusion Matrix : \\n\", conf_matrix_test)"
   ]
  },
  {
   "cell_type": "code",
   "execution_count": 31,
   "metadata": {},
   "outputs": [
    {
     "name": "stdout",
     "output_type": "stream",
     "text": [
      "             precision    recall  f1-score   support\n",
      "\n",
      "    Class 1     0.6326    0.8145    0.7121      1617\n",
      "    Class 2     0.8713    0.7114    0.7833      1646\n",
      "    Class 3     0.8332    0.8237    0.8284      1571\n",
      "    Class 4     0.8060    0.7958    0.8009      1577\n",
      "    Class 5     0.6386    0.6160    0.6271      1578\n",
      "    Class 6     0.6672    0.5286    0.5899      1608\n",
      "    Class 7     1.0000    1.0000    1.0000      1630\n",
      "    Class 8     0.7183    0.6559    0.6857      1555\n",
      "    Class 9     0.7214    0.7073    0.7143      1527\n",
      "   Class 10     0.7024    0.8920    0.7860      1593\n",
      "   Class 11     1.0000    1.0000    1.0000      1651\n",
      "\n",
      "avg / total     0.7826    0.7783    0.7767     17553\n",
      "\n"
     ]
    }
   ],
   "source": [
    "#Generate test classification report\n",
    "target_names = ['Class 1','Class 2','Class 3','Class 4','Class 5','Class 6', 'Class 7',\n",
    "                'Class 8','Class 9','Class 10','Class 11' ]\n",
    "print(classification_report(y_test, y_test_pred, target_names = target_names, digits=4))"
   ]
  },
  {
   "cell_type": "markdown",
   "metadata": {},
   "source": [
    "### Model II : LDA"
   ]
  },
  {
   "cell_type": "code",
   "execution_count": 42,
   "metadata": {
    "collapsed": true
   },
   "outputs": [],
   "source": [
    "import warnings\n",
    "warnings.filterwarnings(\"ignore\")"
   ]
  },
  {
   "cell_type": "code",
   "execution_count": 43,
   "metadata": {},
   "outputs": [
    {
     "name": "stdout",
     "output_type": "stream",
     "text": [
      "Train Accuracy = 85.42%\n"
     ]
    }
   ],
   "source": [
    "lda = LinearDiscriminantAnalysis()\n",
    "lda.fit(X_train,y_train)\n",
    "\n",
    "y_train_pred = lda.predict(X_train)\n",
    "train_accuracy = accuracy_score(y_train, y_train_pred)\n",
    "\n",
    "print('Train Accuracy = {0:.2f}%'.format(train_accuracy*100))"
   ]
  },
  {
   "cell_type": "code",
   "execution_count": 44,
   "metadata": {},
   "outputs": [
    {
     "data": {
      "text/plain": [
       "RFECV(cv=StratifiedKFold(n_splits=2, random_state=None, shuffle=False),\n",
       "   estimator=LinearDiscriminantAnalysis(n_components=None, priors=None, shrinkage=None,\n",
       "              solver='svd', store_covariance=False, tol=0.0001),\n",
       "   n_jobs=1, scoring='accuracy', step=1, verbose=0)"
      ]
     },
     "execution_count": 44,
     "metadata": {},
     "output_type": "execute_result"
    }
   ],
   "source": [
    "# Feature set optimization : Recursive Feature Elimination and Cross Validation\n",
    "# The \"accuracy\" scoring is proportional to the number of correct classifications\n",
    "lda_rfecv = RFECV(estimator=lda, step=1, cv=StratifiedKFold(2), scoring='accuracy')\n",
    "lda_rfecv.fit(X_train, y_train)"
   ]
  },
  {
   "cell_type": "code",
   "execution_count": 172,
   "metadata": {},
   "outputs": [
    {
     "data": {
      "image/png": "[encoded data removed]",
      "text/plain": [
       "<matplotlib.figure.Figure at 0x1a146fa438>"
      ]
     },
     "metadata": {},
     "output_type": "display_data"
    },
    {
     "name": "stdout",
     "output_type": "stream",
     "text": [
      "Optimal number of features : 36\n"
     ]
    }
   ],
   "source": [
    "# Plot number of features VS. cross-validation scores\n",
    "plt.figure(figsize=(15,6))\n",
    "plt.xlim(0, 50)\n",
    "plt.xticks(range(1,51))\n",
    "plt.xlabel(\"Number of features selected\")\n",
    "plt.ylabel(\"Cross validation Error Rate\")\n",
    "plt.title('LDA Feature Set Optimization')\n",
    "plt.plot(range(1, len(lda_rfecv.grid_scores_) + 1), 1-lda_rfecv.grid_scores_,'r-o', linewidth=2.5)\n",
    "plt.grid()\n",
    "plt.show()\n",
    "\n",
    "print(\"Optimal number of features : %d\" % lda_rfecv.n_features_)"
   ]
  },
  {
   "cell_type": "markdown",
   "metadata": {},
   "source": [
    "CV Error rate is the least when there are only 36 input features. The classifier is fit on the optimized dataset to obtain the improved model."
   ]
  },
  {
   "cell_type": "code",
   "execution_count": 46,
   "metadata": {},
   "outputs": [
    {
     "data": {
      "text/plain": [
       "array([ 1,  1,  8,  1,  1,  4,  1,  1,  1,  1,  1,  1,  1,  1,  3,  1,  1,\n",
       "        1,  1,  1,  1,  1,  1,  1,  1,  7, 11,  1,  9, 12,  1,  1,  1,  1,\n",
       "        1,  1,  1,  5, 10,  1,  6, 13,  1,  1,  2,  1,  1,  1])"
      ]
     },
     "execution_count": 46,
     "metadata": {},
     "output_type": "execute_result"
    }
   ],
   "source": [
    "#Analysis\n",
    "lda_rfecv.ranking_"
   ]
  },
  {
   "cell_type": "markdown",
   "metadata": {},
   "source": [
    "#### Improved Classifier"
   ]
  },
  {
   "cell_type": "code",
   "execution_count": 47,
   "metadata": {},
   "outputs": [
    {
     "name": "stdout",
     "output_type": "stream",
     "text": [
      "Train Accuracy = 85.45%\n"
     ]
    }
   ],
   "source": [
    "y_train_pred = lda_rfecv.predict(X_train)\n",
    "train_accuracy = accuracy_score(y_train, y_train_pred)\n",
    "\n",
    "print('Train Accuracy = {0:.2f}%'.format(train_accuracy*100))"
   ]
  },
  {
   "cell_type": "code",
   "execution_count": 48,
   "metadata": {
    "scrolled": true
   },
   "outputs": [
    {
     "name": "stdout",
     "output_type": "stream",
     "text": [
      "Train Confusion Matrix : \n",
      " [[3244    0    0    0    0  375    0    0   83    0    0]\n",
      " [   1 2991    0    0    0    0    0    0    6  675    0]\n",
      " [   3    0 3440    0  275   29    0    0    1    0    0]\n",
      " [   0    0  278 3375   60    0    1   28    0    0    0]\n",
      " [   2    0  156  208 2680    2    0  693    0    0    0]\n",
      " [ 614    0   34    0    0 2566    0    0  497    0    0]\n",
      " [   0    0    0    1    0    0 3688    0    0    0    0]\n",
      " [   3    0   50  119  476    2    1 3110    3    0    0]\n",
      " [  58   11    2    0    0  720    0    0 2981   20    0]\n",
      " [   0  474    0    0    0    0    0    0    0 3252    0]\n",
      " [   0    0    0    0    0    0    0    0    0    0 3668]]\n"
     ]
    }
   ],
   "source": [
    "#Generate train confustion matrix\n",
    "conf_matrix_train = confusion_matrix(y_train, y_train_pred)\n",
    "print(\"Train Confusion Matrix : \\n\", conf_matrix_train)"
   ]
  },
  {
   "cell_type": "markdown",
   "metadata": {},
   "source": [
    "#### Test Set Performance"
   ]
  },
  {
   "cell_type": "code",
   "execution_count": 49,
   "metadata": {},
   "outputs": [
    {
     "name": "stdout",
     "output_type": "stream",
     "text": [
      "Test Accuracy =85.28%\n"
     ]
    }
   ],
   "source": [
    "#Applying the final model on the test set\n",
    "y_test_pred = lda_rfecv.predict(X_test)\n",
    "test_accuracy = accuracy_score(y_test,y_test_pred)\n",
    "\n",
    "print('Test Accuracy ={0:.2f}%'.format(test_accuracy*100))"
   ]
  },
  {
   "cell_type": "code",
   "execution_count": 50,
   "metadata": {},
   "outputs": [
    {
     "name": "stdout",
     "output_type": "stream",
     "text": [
      "Test Confusion Matrix : \n",
      " [[1412    0    0    0    0  164    0    0   41    0    0]\n",
      " [   0 1350    0    0    0    0    0    1    5  289    1]\n",
      " [   0    0 1437    0  123    9    0    1    1    0    0]\n",
      " [   0    0  126 1402   33    0    1   15    0    0    0]\n",
      " [   2    0   67   87 1108    0    0  313    1    0    0]\n",
      " [ 278    0   16    0    0 1105    0    0  209    0    0]\n",
      " [   0    0    0    0    0    0 1629    0    0    0    1]\n",
      " [   3    0   14   53  204    5    0 1275    1    0    0]\n",
      " [  22    5    0    0    0  279    0    1 1208   12    0]\n",
      " [   0  201    0    0    0    0    0    0    0 1392    0]\n",
      " [   0    0    0    0    0    0    0    0    0    0 1651]]\n"
     ]
    }
   ],
   "source": [
    "#Generate test confusion matrix\n",
    "conf_matrix_test = confusion_matrix(y_test, y_test_pred)\n",
    "print(\"Test Confusion Matrix : \\n\", conf_matrix_test)"
   ]
  },
  {
   "cell_type": "code",
   "execution_count": 51,
   "metadata": {},
   "outputs": [
    {
     "name": "stdout",
     "output_type": "stream",
     "text": [
      "             precision    recall  f1-score   support\n",
      "\n",
      "    Class 1     0.8224    0.8732    0.8470      1617\n",
      "    Class 2     0.8676    0.8202    0.8432      1646\n",
      "    Class 3     0.8657    0.9147    0.8895      1571\n",
      "    Class 4     0.9092    0.8890    0.8990      1577\n",
      "    Class 5     0.7548    0.7022    0.7275      1578\n",
      "    Class 6     0.7074    0.6872    0.6972      1608\n",
      "    Class 7     0.9994    0.9994    0.9994      1630\n",
      "    Class 8     0.7939    0.8199    0.8067      1555\n",
      "    Class 9     0.8240    0.7911    0.8072      1527\n",
      "   Class 10     0.8222    0.8738    0.8472      1593\n",
      "   Class 11     0.9988    1.0000    0.9994      1651\n",
      "\n",
      "avg / total     0.8523    0.8528    0.8521     17553\n",
      "\n"
     ]
    }
   ],
   "source": [
    "#Generate test classification report\n",
    "target_names = ['Class 1','Class 2','Class 3','Class 4','Class 5','Class 6', 'Class 7',\n",
    "                'Class 8','Class 9','Class 10','Class 11' ]\n",
    "print(classification_report(y_test, y_test_pred, target_names = target_names, digits=4))"
   ]
  },
  {
   "cell_type": "markdown",
   "metadata": {},
   "source": [
    "### Model III : Linear Support Vector Classifier"
   ]
  },
  {
   "cell_type": "code",
   "execution_count": 66,
   "metadata": {
    "collapsed": true
   },
   "outputs": [],
   "source": [
    "import warnings\n",
    "warnings.filterwarnings(\"ignore\")"
   ]
  },
  {
   "cell_type": "code",
   "execution_count": 70,
   "metadata": {},
   "outputs": [
    {
     "name": "stdout",
     "output_type": "stream",
     "text": [
      "Train Accuracy = 93.05%\n"
     ]
    }
   ],
   "source": [
    "svc = SVC(kernel ='linear')\n",
    "svc.fit(X_train,y_train)\n",
    "\n",
    "y_train_pred = svc.predict(X_train)\n",
    "train_accuracy = accuracy_score(y_train, y_train_pred)\n",
    "\n",
    "print('Train Accuracy = {0:.2f}%'.format(train_accuracy*100))"
   ]
  },
  {
   "cell_type": "code",
   "execution_count": 72,
   "metadata": {},
   "outputs": [
    {
     "data": {
      "text/plain": [
       "RFECV(cv=StratifiedKFold(n_splits=2, random_state=None, shuffle=False),\n",
       "   estimator=SVC(C=1.0, cache_size=200, class_weight=None, coef0=0.0,\n",
       "  decision_function_shape='ovr', degree=3, gamma='auto', kernel='linear',\n",
       "  max_iter=-1, probability=False, random_state=None, shrinking=True,\n",
       "  tol=0.001, verbose=False),\n",
       "   n_jobs=1, scoring='accuracy', step=1, verbose=0)"
      ]
     },
     "execution_count": 72,
     "metadata": {},
     "output_type": "execute_result"
    }
   ],
   "source": [
    "# Feature set optimization : Recursive Feature Elimination and Cross Validation\n",
    "# The \"accuracy\" scoring is proportional to the number of correct classifications\n",
    "svc_rfecv = RFECV(estimator=svc, step=1, cv=StratifiedKFold(2), scoring='accuracy')\n",
    "svc_rfecv.fit(X_train, y_train)"
   ]
  },
  {
   "cell_type": "code",
   "execution_count": 173,
   "metadata": {},
   "outputs": [
    {
     "data": {
      "image/png": "[encoded data removed]",
      "text/plain": [
       "<matplotlib.figure.Figure at 0x1a148756a0>"
      ]
     },
     "metadata": {},
     "output_type": "display_data"
    },
    {
     "name": "stdout",
     "output_type": "stream",
     "text": [
      "Optimal number of features : 40\n"
     ]
    }
   ],
   "source": [
    "# Plot number of features VS. cross-validation scores\n",
    "plt.figure(figsize=(15,6))\n",
    "plt.xlim(0, 50)\n",
    "plt.xticks(range(1,51))\n",
    "plt.xlabel(\"Number of features selected\")\n",
    "plt.ylabel(\"Cross validation Error Rate\")\n",
    "plt.title('No. of features vs CV error rate')\n",
    "plt.plot(range(1, len(svc_rfecv.grid_scores_) + 1), 1-svc_rfecv.grid_scores_,'r-o', linewidth=2.5)\n",
    "plt.grid()\n",
    "plt.show()\n",
    "\n",
    "print(\"Optimal number of features : %d\" % svc_rfecv.n_features_)"
   ]
  },
  {
   "cell_type": "markdown",
   "metadata": {},
   "source": [
    "CV Error rate is the least when there are only 40 input features. The classifier is fit on the optimized dataset to obtain the improved model."
   ]
  },
  {
   "cell_type": "code",
   "execution_count": 74,
   "metadata": {},
   "outputs": [
    {
     "data": {
      "text/plain": [
       "array([1, 1, 5, 1, 1, 3, 1, 1, 1, 1, 1, 1, 1, 1, 1, 1, 1, 1, 1, 1, 1, 1, 1,\n",
       "       1, 1, 2, 7, 1, 1, 4, 1, 1, 1, 1, 1, 1, 1, 6, 8, 1, 1, 9, 1, 1, 1, 1,\n",
       "       1, 1])"
      ]
     },
     "execution_count": 74,
     "metadata": {},
     "output_type": "execute_result"
    }
   ],
   "source": [
    "#Analysis\n",
    "svc_rfecv.ranking_"
   ]
  },
  {
   "cell_type": "markdown",
   "metadata": {},
   "source": [
    "#### Improved Classifier"
   ]
  },
  {
   "cell_type": "code",
   "execution_count": 75,
   "metadata": {},
   "outputs": [
    {
     "name": "stdout",
     "output_type": "stream",
     "text": [
      "Train Accuracy = 93.05%\n"
     ]
    }
   ],
   "source": [
    "y_train_pred = svc_rfecv.predict(X_train)\n",
    "train_accuracy = accuracy_score(y_train, y_train_pred)\n",
    "\n",
    "print('Train Accuracy = {0:.2f}%'.format(train_accuracy*100))"
   ]
  },
  {
   "cell_type": "code",
   "execution_count": 76,
   "metadata": {
    "scrolled": true
   },
   "outputs": [
    {
     "name": "stdout",
     "output_type": "stream",
     "text": [
      "Train Confusion Matrix : \n",
      " [[3577    0    0    0    0  122    0    0    3    0    0]\n",
      " [   0 3350    0    0    0    0    0    0    3  320    0]\n",
      " [   0    0 3658   14   76    0    0    0    0    0    0]\n",
      " [   0    0   37 3684   21    0    0    0    0    0    0]\n",
      " [   0    0   79   49 3065    0    0  548    0    0    0]\n",
      " [ 145    0    8    0    0 3212    0    0  346    0    0]\n",
      " [   0    0    0    0    0    0 3689    0    0    0    0]\n",
      " [   0    0    1   15  251    0    0 3497    0    0    0]\n",
      " [  45   14    1    0    0  338    0    0 3388    6    0]\n",
      " [   0  404    0    0    0    0    0    0    0 3322    0]\n",
      " [   0    0    0    0    0    0    0    0    0    0 3668]]\n"
     ]
    }
   ],
   "source": [
    "#Generate train confustion matrix\n",
    "conf_matrix_train = confusion_matrix(y_train, y_train_pred)\n",
    "print(\"Train Confusion Matrix : \\n\", conf_matrix_train)"
   ]
  },
  {
   "cell_type": "markdown",
   "metadata": {},
   "source": [
    "#### Test Set Performance"
   ]
  },
  {
   "cell_type": "code",
   "execution_count": 77,
   "metadata": {},
   "outputs": [
    {
     "name": "stdout",
     "output_type": "stream",
     "text": [
      "Test Accuracy =92.68%\n"
     ]
    }
   ],
   "source": [
    "#Applying the final model on the test set\n",
    "y_test_pred = svc_rfecv.predict(X_test)\n",
    "test_accuracy = accuracy_score(y_test,y_test_pred)\n",
    "\n",
    "print('Test Accuracy ={0:.2f}%'.format(test_accuracy*100))"
   ]
  },
  {
   "cell_type": "code",
   "execution_count": 78,
   "metadata": {},
   "outputs": [
    {
     "name": "stdout",
     "output_type": "stream",
     "text": [
      "Test Confusion Matrix : \n",
      " [[1562    0    0    0    0   53    0    0    2    0    0]\n",
      " [   1 1494    0    0    0    0    0    1    3  146    1]\n",
      " [   0    0 1527    4   40    0    0    0    0    0    0]\n",
      " [   0    0    6 1558   13    0    0    0    0    0    0]\n",
      " [   0    0   31   29 1261    0    0  257    0    0    0]\n",
      " [  67    0   13    0    0 1386    0    0  142    0    0]\n",
      " [   0    0    0    0    1    0 1629    0    0    0    0]\n",
      " [   1    0    1   11  117    0    0 1425    0    0    0]\n",
      " [  27    3    1    0    0  135    0    0 1355    6    0]\n",
      " [   0  173    0    0    0    0    0    0    0 1420    0]\n",
      " [   0    0    0    0    0    0    0    0    0    0 1651]]\n"
     ]
    }
   ],
   "source": [
    "#Generate test confusion matrix\n",
    "conf_matrix_test = confusion_matrix(y_test, y_test_pred)\n",
    "print(\"Test Confusion Matrix : \\n\", conf_matrix_test)"
   ]
  },
  {
   "cell_type": "code",
   "execution_count": 79,
   "metadata": {},
   "outputs": [
    {
     "name": "stdout",
     "output_type": "stream",
     "text": [
      "             precision    recall  f1-score   support\n",
      "\n",
      "    Class 1     0.9421    0.9660    0.9539      1617\n",
      "    Class 2     0.8946    0.9077    0.9011      1646\n",
      "    Class 3     0.9671    0.9720    0.9695      1571\n",
      "    Class 4     0.9725    0.9880    0.9802      1577\n",
      "    Class 5     0.8806    0.7991    0.8379      1578\n",
      "    Class 6     0.8806    0.8619    0.8712      1608\n",
      "    Class 7     1.0000    0.9994    0.9997      1630\n",
      "    Class 8     0.8467    0.9164    0.8802      1555\n",
      "    Class 9     0.9021    0.8874    0.8947      1527\n",
      "   Class 10     0.9033    0.8914    0.8973      1593\n",
      "   Class 11     0.9994    1.0000    0.9997      1651\n",
      "\n",
      "avg / total     0.9268    0.9268    0.9264     17553\n",
      "\n"
     ]
    }
   ],
   "source": [
    "#Generate test classification report\n",
    "target_names = ['Class 1','Class 2','Class 3','Class 4','Class 5','Class 6', 'Class 7',\n",
    "                'Class 8','Class 9','Class 10','Class 11' ]\n",
    "print(classification_report(y_test, y_test_pred, target_names = target_names, digits=4))"
   ]
  },
  {
   "cell_type": "markdown",
   "metadata": {},
   "source": [
    "### Model IV : kNN"
   ]
  },
  {
   "cell_type": "code",
   "execution_count": 155,
   "metadata": {
    "collapsed": true
   },
   "outputs": [],
   "source": [
    "# Creating odd list of K for KNN\n",
    "myList = list(range(1,50))\n",
    "\n",
    "# Subsetting just the odd ones\n",
    "neighbors = list(filter(lambda x: x % 2 != 0, myList))\n",
    "\n",
    "# Empty list that will hold cv scores\n",
    "cv_scores = []\n",
    "\n",
    "# Perform 5-fold cross validation\n",
    "for k in neighbors:\n",
    "    knn = KNeighborsClassifier(n_neighbors=k)\n",
    "    scores = cross_val_score(knn, X_train, y_train, cv=5, scoring='accuracy')\n",
    "    cv_scores.append(scores.mean())"
   ]
  },
  {
   "cell_type": "code",
   "execution_count": 158,
   "metadata": {},
   "outputs": [
    {
     "data": {
      "image/png": "[encoded data removed]",
      "text/plain": [
       "<matplotlib.figure.Figure at 0x1a1480b320>"
      ]
     },
     "metadata": {},
     "output_type": "display_data"
    },
    {
     "name": "stdout",
     "output_type": "stream",
     "text": [
      "The optimal number of neighbors is 15\n"
     ]
    }
   ],
   "source": [
    "# Changing to misclassification error\n",
    "knn_MSE = [1 - x for x in cv_scores]\n",
    "\n",
    "# Plot misclassification error vs k\n",
    "plt.figure(figsize=(15,6))\n",
    "plt.plot(neighbors, knn_MSE, 'm-o', linewidth =2.5)\n",
    "plt.xlim(0, 50)\n",
    "plt.xticks(range(1,51))\n",
    "plt.xlabel('Number of Neighbors K')\n",
    "plt.ylabel('Misclassification Error')\n",
    "plt.title('kNN Parameter Tuning using Cross Validation')\n",
    "plt.grid()\n",
    "plt.show()\n",
    "\n",
    "# # Determining best k\n",
    "optimal_k = neighbors[knn_MSE.index(min(knn_MSE))]\n",
    "print (\"The optimal number of neighbors is %d\" % optimal_k)"
   ]
  },
  {
   "cell_type": "markdown",
   "metadata": {},
   "source": [
    "#### Improved Classifier"
   ]
  },
  {
   "cell_type": "code",
   "execution_count": 159,
   "metadata": {},
   "outputs": [
    {
     "name": "stdout",
     "output_type": "stream",
     "text": [
      "Train Accuracy = 100.00%\n"
     ]
    }
   ],
   "source": [
    "# Using optimal 'k' for training\n",
    "knn_clf = KNeighborsClassifier(n_neighbors=optimal_k)\n",
    "knn_clf.fit(X_train, y_train)\n",
    "y_pred_train = knn_clf.predict(X_train)\n",
    "train_accuracy = accuracy_score(y_train, y_train_pred)\n",
    "\n",
    "print('Train Accuracy = {0:.2f}%'.format(train_accuracy*100))"
   ]
  },
  {
   "cell_type": "code",
   "execution_count": 160,
   "metadata": {
    "scrolled": true
   },
   "outputs": [
    {
     "name": "stdout",
     "output_type": "stream",
     "text": [
      "Train Confusion Matrix : \n",
      " [[3702    0    0    0    0    0    0    0    0    0    0]\n",
      " [   0 3673    0    0    0    0    0    0    0    0    0]\n",
      " [   0    0 3748    0    0    0    0    0    0    0    0]\n",
      " [   0    0    0 3742    0    0    0    0    0    0    0]\n",
      " [   0    0    0    0 3741    0    0    0    0    0    0]\n",
      " [   0    0    0    0    0 3711    0    0    0    0    0]\n",
      " [   0    0    0    0    0    0 3689    0    0    0    0]\n",
      " [   0    0    0    0    0    0    0 3764    0    0    0]\n",
      " [   0    0    0    0    0    0    0    0 3792    0    0]\n",
      " [   0    0    0    0    0    0    0    0    0 3726    0]\n",
      " [   0    0    0    0    0    0    0    0    0    0 3668]]\n"
     ]
    }
   ],
   "source": [
    "#Generate train confustion matrix\n",
    "conf_matrix_train = confusion_matrix(y_train, y_train_pred)\n",
    "print(\"Train Confusion Matrix : \\n\", conf_matrix_train)"
   ]
  },
  {
   "cell_type": "markdown",
   "metadata": {},
   "source": [
    "#### Test Set Performance"
   ]
  },
  {
   "cell_type": "code",
   "execution_count": 161,
   "metadata": {},
   "outputs": [
    {
     "name": "stdout",
     "output_type": "stream",
     "text": [
      "Test Accuracy =82.53%\n"
     ]
    }
   ],
   "source": [
    "#Applying the final model on the test set\n",
    "y_test_pred = knn_clf.predict(X_test)\n",
    "test_accuracy = accuracy_score(y_test,y_test_pred)\n",
    "\n",
    "print('Test Accuracy ={0:.2f}%'.format(test_accuracy*100))"
   ]
  },
  {
   "cell_type": "code",
   "execution_count": 162,
   "metadata": {
    "scrolled": true
   },
   "outputs": [
    {
     "name": "stdout",
     "output_type": "stream",
     "text": [
      "Test Confusion Matrix : \n",
      " [[1255    2   24    1   10  259    0    9   56    1    0]\n",
      " [   5 1331    6    2    3   12    1    0   20  266    0]\n",
      " [  37    6 1363   18   77   44    0   10   11    5    0]\n",
      " [   0    2   54 1379   91    4    6   40    1    0    0]\n",
      " [  20    0  147  134 1097   23    0  148    9    0    0]\n",
      " [ 229    7   48    3   36 1202    0   21   58    4    0]\n",
      " [   0    0    1   21    2    0 1601    4    1    0    0]\n",
      " [  23    0   17   97  206   55    0 1123   34    0    0]\n",
      " [  43   17   31    6   14  138    1   22 1251    3    1]\n",
      " [   1  334    5    0    3   10    0    0    6 1234    0]\n",
      " [   0    0    0    0    0    0    0    0    0    0 1651]]\n"
     ]
    }
   ],
   "source": [
    "#Generate test confusion matrix\n",
    "conf_matrix_test = confusion_matrix(y_test, y_test_pred)\n",
    "print(\"Test Confusion Matrix : \\n\", conf_matrix_test)"
   ]
  },
  {
   "cell_type": "code",
   "execution_count": 163,
   "metadata": {
    "scrolled": true
   },
   "outputs": [
    {
     "name": "stdout",
     "output_type": "stream",
     "text": [
      "             precision    recall  f1-score   support\n",
      "\n",
      "    Class 1     0.7781    0.7761    0.7771      1617\n",
      "    Class 2     0.7834    0.8086    0.7958      1646\n",
      "    Class 3     0.8037    0.8676    0.8344      1571\n",
      "    Class 4     0.8302    0.8744    0.8518      1577\n",
      "    Class 5     0.7128    0.6952    0.7039      1578\n",
      "    Class 6     0.6880    0.7475    0.7165      1608\n",
      "    Class 7     0.9950    0.9822    0.9886      1630\n",
      "    Class 8     0.8155    0.7222    0.7660      1555\n",
      "    Class 9     0.8645    0.8193    0.8413      1527\n",
      "   Class 10     0.8156    0.7746    0.7946      1593\n",
      "   Class 11     0.9994    1.0000    0.9997      1651\n",
      "\n",
      "avg / total     0.8266    0.8253    0.8253     17553\n",
      "\n"
     ]
    }
   ],
   "source": [
    "#Generate test classification report\n",
    "target_names = ['Class 1','Class 2','Class 3','Class 4','Class 5','Class 6', 'Class 7',\n",
    "                'Class 8','Class 9','Class 10','Class 11' ]\n",
    "print(classification_report(y_test, y_test_pred, target_names = target_names, digits=4))"
   ]
  },
  {
   "cell_type": "markdown",
   "metadata": {},
   "source": [
    "### Model V : Random Forest"
   ]
  },
  {
   "cell_type": "code",
   "execution_count": 11,
   "metadata": {
    "collapsed": true
   },
   "outputs": [],
   "source": [
    "# Creating even list of 't' for RandomForest\n",
    "myList = list(range(1,50))\n",
    "\n",
    "# Subsetting just the even ones\n",
    "trees = list(filter(lambda x: x % 2 == 0, myList))\n",
    "\n",
    "# Empty list that will hold cv scores\n",
    "rf_cv_scores = []\n",
    "\n",
    "# Perform 5-fold cross validation\n",
    "for t in trees:\n",
    "    rf = RandomForestClassifier(n_estimators=t)\n",
    "    scores = cross_val_score(rf, X_train, y_train, cv=5, scoring='accuracy')\n",
    "    rf_cv_scores.append(scores.mean())"
   ]
  },
  {
   "cell_type": "code",
   "execution_count": 13,
   "metadata": {},
   "outputs": [
    {
     "data": {
      "image/png": "[encoded data removed]",
      "text/plain": [
       "<matplotlib.figure.Figure at 0x1029f00f0>"
      ]
     },
     "metadata": {},
     "output_type": "display_data"
    },
    {
     "name": "stdout",
     "output_type": "stream",
     "text": [
      "The optimal number of estimators is 22\n"
     ]
    }
   ],
   "source": [
    "# Changing to misclassification error\n",
    "rf_MSE = [1 - x for x in rf_cv_scores]\n",
    "\n",
    "# Plot misclassification error vs t\n",
    "plt.figure(figsize=(15,6))\n",
    "plt.plot(trees, rf_MSE, 'm-o', linewidth =2.5)\n",
    "plt.xlim(0, 50)\n",
    "plt.xticks(range(1,51))\n",
    "plt.xlabel('Number of Neighbors K')\n",
    "plt.ylabel('Misclassification Error')\n",
    "plt.title('Random Forests Parameter Tuning using Cross Validation')\n",
    "plt.grid()\n",
    "plt.show()\n",
    "\n",
    "# # Determining best t\n",
    "optimal_k = trees[rf_MSE.index(min(rf_MSE))]\n",
    "print (\"The optimal number of estimators is %d\" % optimal_k)"
   ]
  },
  {
   "cell_type": "code",
   "execution_count": 14,
   "metadata": {},
   "outputs": [
    {
     "name": "stdout",
     "output_type": "stream",
     "text": [
      "Train Accuracy = 100.00%\n"
     ]
    }
   ],
   "source": [
    "rf_clf = RandomForestClassifier(n_estimators=22)\n",
    "rf_clf.fit(X_train, y_train)\n",
    "y_train_pred = rf_clf.predict(X_train)\n",
    "train_accuracy = accuracy_score(y_train, y_train_pred)\n",
    "\n",
    "print('Train Accuracy = {0:.2f}%'.format(train_accuracy*100))"
   ]
  },
  {
   "cell_type": "code",
   "execution_count": 15,
   "metadata": {},
   "outputs": [
    {
     "name": "stdout",
     "output_type": "stream",
     "text": [
      "Train Confusion Matrix : \n",
      " [[3702    0    0    0    0    0    0    0    0    0    0]\n",
      " [   0 3673    0    0    0    0    0    0    0    0    0]\n",
      " [   0    0 3748    0    0    0    0    0    0    0    0]\n",
      " [   0    0    0 3742    0    0    0    0    0    0    0]\n",
      " [   0    0    0    0 3741    0    0    0    0    0    0]\n",
      " [   0    0    0    0    0 3711    0    0    0    0    0]\n",
      " [   0    0    0    0    0    0 3689    0    0    0    0]\n",
      " [   0    0    0    0    0    0    0 3764    0    0    0]\n",
      " [   0    0    0    0    0    0    0    0 3792    0    0]\n",
      " [   0    0    0    0    0    0    0    0    0 3726    0]\n",
      " [   0    0    0    0    0    0    0    0    0    0 3668]]\n"
     ]
    }
   ],
   "source": [
    "#Generate train confustion matrix\n",
    "conf_matrix_train = confusion_matrix(y_train, y_train_pred)\n",
    "print(\"Train Confusion Matrix : \\n\", conf_matrix_train)"
   ]
  },
  {
   "cell_type": "code",
   "execution_count": 16,
   "metadata": {},
   "outputs": [
    {
     "name": "stdout",
     "output_type": "stream",
     "text": [
      "Test Accuracy =99.81%\n"
     ]
    }
   ],
   "source": [
    "#Applying the final model on the test set\n",
    "y_test_pred = rf_clf.predict(X_test)\n",
    "test_accuracy = accuracy_score(y_test,y_test_pred)\n",
    "print('Test Accuracy ={0:.2f}%'.format(test_accuracy*100))"
   ]
  },
  {
   "cell_type": "code",
   "execution_count": 17,
   "metadata": {},
   "outputs": [
    {
     "name": "stdout",
     "output_type": "stream",
     "text": [
      "Test Confusion Matrix : \n",
      " [[1615    0    0    0    0    2    0    0    0    0    0]\n",
      " [   0 1640    0    0    0    0    0    0    1    4    1]\n",
      " [   0    0 1571    0    0    0    0    0    0    0    0]\n",
      " [   0    0    0 1577    0    0    0    0    0    0    0]\n",
      " [   0    0    4    2 1570    0    0    2    0    0    0]\n",
      " [   1    0    0    0    0 1606    0    0    1    0    0]\n",
      " [   0    0    0    0    1    0 1629    0    0    0    0]\n",
      " [   0    0    0    2    4    0    0 1549    0    0    0]\n",
      " [   1    1    0    0    0    0    0    1 1522    2    0]\n",
      " [   0    3    0    0    0    0    0    0    0 1590    0]\n",
      " [   0    0    0    0    0    0    0    0    0    0 1651]]\n"
     ]
    }
   ],
   "source": [
    "#Generate test confusion matrix\n",
    "conf_matrix_test = confusion_matrix(y_test, y_test_pred)\n",
    "print(\"Test Confusion Matrix : \\n\", conf_matrix_test)"
   ]
  },
  {
   "cell_type": "code",
   "execution_count": 18,
   "metadata": {},
   "outputs": [
    {
     "name": "stdout",
     "output_type": "stream",
     "text": [
      "             precision    recall  f1-score   support\n",
      "\n",
      "    Class 1     0.9988    0.9988    0.9988      1617\n",
      "    Class 2     0.9976    0.9964    0.9970      1646\n",
      "    Class 3     0.9975    1.0000    0.9987      1571\n",
      "    Class 4     0.9975    1.0000    0.9987      1577\n",
      "    Class 5     0.9968    0.9949    0.9959      1578\n",
      "    Class 6     0.9988    0.9988    0.9988      1608\n",
      "    Class 7     1.0000    0.9994    0.9997      1630\n",
      "    Class 8     0.9981    0.9961    0.9971      1555\n",
      "    Class 9     0.9987    0.9967    0.9977      1527\n",
      "   Class 10     0.9962    0.9981    0.9972      1593\n",
      "   Class 11     0.9994    1.0000    0.9997      1651\n",
      "\n",
      "avg / total     0.9981    0.9981    0.9981     17553\n",
      "\n"
     ]
    }
   ],
   "source": [
    "#Generate test classification report\n",
    "target_names = ['Class 1','Class 2','Class 3','Class 4','Class 5','Class 6', 'Class 7',\n",
    "                'Class 8','Class 9','Class 10','Class 11' ]\n",
    "print(classification_report(y_test, y_test_pred, target_names = target_names, digits=4))"
   ]
  },
  {
   "cell_type": "code",
   "execution_count": 19,
   "metadata": {},
   "outputs": [
    {
     "data": {
      "image/png": "[encoded data removed]",
      "text/plain": [
       "<matplotlib.figure.Figure at 0x1a09e10320>"
      ]
     },
     "metadata": {},
     "output_type": "display_data"
    }
   ],
   "source": [
    "import matplotlib.pyplot as plt\n",
    "import numpy as np\n",
    "\n",
    "plt.rcdefaults()\n",
    "fig, ax = plt.subplots()\n",
    "\n",
    "# Example data\n",
    "classifiers = ('Logistic Regression', 'LDA', 'SVC', 'kNN', 'Random Forests')\n",
    "accuracy_list = (0.7783, 0.8538, 0.9268, 0.8253, 0.9981)\n",
    "accuracy_array = np.asarray(accuracy_list)*100 \n",
    "\n",
    "y_pos = np.arange(len(classifiers))\n",
    "ax.barh(y_pos, accuracy_array, align='center',color='darkcyan', ecolor='black')\n",
    "ax.grid()\n",
    "ax.set_yticks(y_pos)\n",
    "ax.set_yticklabels(classifiers)\n",
    "ax.invert_yaxis()  # labels read top-to-bottom\n",
    "ax.set_xlabel('Accuracy (%)')\n",
    "ax.set_title('Classifier Performance Comparison')\n",
    "\n",
    "plt.show()"
   ]
  },
  {
   "cell_type": "markdown",
   "metadata": {},
   "source": [
    "###### ~FIN~"
   ]
  }
 ],
 "metadata": {
  "kernelspec": {
   "display_name": "Python 3",
   "language": "python",
   "name": "python3"
  },
  "language_info": {
   "codemirror_mode": {
    "name": "ipython",
    "version": 3
   },
   "file_extension": ".py",
   "mimetype": "text/x-python",
   "name": "python",
   "nbconvert_exporter": "python",
   "pygments_lexer": "ipython3",
   "version": "3.6.1"
  }
 },
 "nbformat": 4,
 "nbformat_minor": 2
}
